{
  "metadata": {},
  "nbformat": 4,
  "nbformat_minor": 0,
  "cells": [
    {
      "cell_type": "markdown",
      "metadata": {},
      "source": [
        "圓周上的小圓圈",
        "\n$\\Theta / 360\\degree$\n",
        "\n即可求得 $r_1$ 半徑的圓周能擠下 $\\Theta / 360\\degree$ 個 $r_2$ 半徑的圓。",
        "\n",
        "\n$\\Theta_b = 90 - \\Theta / 2 \\\\\n",
        "\\tan\\Theta_b = ( (r_1)^2 - (r_2)^2 ) / r_2$\n",
        "\n即可求得  半徑的圓周能擠下  個  半徑的圓。",
        "\n$\\begin{align}\n",
        "\\dot{x} & = \\sigma(y-x) \\\\\n",
        "\\dot{y} & = \\rho x - y - xz \\\\\n",
        "\\dot{z} & = -\\beta z + xy\n",
        "\\end{align}$",
        "\n即可求得  半徑的圓周能擠下  個  半徑的圓。"
      ]
    }
  ]
}

